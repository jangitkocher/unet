{
  "nbformat": 4,
  "nbformat_minor": 0,
  "metadata": {
    "kernelspec": {
      "display_name": "Python 3",
      "language": "python",
      "name": "python3"
    },
    "language_info": {
      "codemirror_mode": {
        "name": "ipython",
        "version": 3
      },
      "file_extension": ".py",
      "mimetype": "text/x-python",
      "name": "python",
      "nbconvert_exporter": "python",
      "pygments_lexer": "ipython3",
      "version": "3.8.2"
    },
    "colab": {
      "name": "Kopie von U-Net_with_Pretrained_MobileNetV2_as_Encoder.ipynb",
      "provenance": []
    },
    "accelerator": "GPU"
  },
  "cells": [
    {
      "cell_type": "markdown",
      "metadata": {
        "id": "8PAcQYO0YzdQ"
      },
      "source": [
        "# U-Net with Pretrained MobileNetV2 as Encoder"
      ]
    },
    {
      "cell_type": "markdown",
      "metadata": {
        "id": "_pEUNvlgYzdX"
      },
      "source": [
        "## What is U-Net\n",
        "Paper: <a href=\"https://arxiv.org/abs/1505.04597\"> https://arxiv.org/abs/1505.04597 </a>"
      ]
    },
    {
      "cell_type": "markdown",
      "metadata": {
        "id": "LNJetcZRYzdY"
      },
      "source": [
        "U-Net is a convolutional neural network that was developed for biomedical image segmentation at the Computer Science Department of the University of Freiburg, Germany. The network is based on the fully convolutional network and its architecture was modified and extended to work with fewer training images and to yield more precise segmentations.\n",
        "\n",
        "<img src=\"https://github.com/nikhilroxtomar/Unet-with-Pretrained-Encoder/blob/master/images/u-net-architecture.png?raw=1\">\n",
        "\n",
        "<br/>\n",
        "UNet Architecture has 3 parts:\n",
        "<ol>\n",
        "    <li>The Contracting/Downsampling Path</li>\n",
        "    <li>Bottleneck</li>\n",
        "    <li>The Expanding/Upsampling Path</li>\n",
        "</ol>\n",
        "\n",
        "<h3>Downsampling Path: </h3>\n",
        " <ul>\n",
        "    <li>It consists of two 3x3 convolutions (unpadded convolutions), each followed by a rectified linear unit (ReLU) and a 2x2 max pooling operation with stride 2 for downsampling.</li>\n",
        "    <li>At each downsampling step we double the number of feature channels.</li>\n",
        "</ul>\n",
        "\n",
        "<h3>Upsampling Path: </h3>\n",
        "<ul>\n",
        "    <li> Every  step  in  the  expansive  path  consists  of  an  upsampling  of  the feature map followed by a 2x2 convolution (“up-convolution”), a concatenation with the correspondingly feature  map  from  the  downsampling  path,  and  two  3x3  convolutions,  each  followed by a ReLU.</li>\n",
        "</ul>\n",
        "\n",
        "<h3> Skip Connection: </h3>\n",
        "The skip connection from the downsampling path are concatenated with feature map during upsampling path. These skip connection provide local information to global information while upsampling.\n",
        "\n",
        "<h3> Final Layer: </h3>\n",
        "At the final layer a 1x1 convolution is used to map each feature vector to the desired number of classes.\n",
        "<br/> <br/> <br/>\n",
        "<hr>"
      ]
    },
    {
      "cell_type": "markdown",
      "metadata": {
        "id": "Kdz9gTefYzdd"
      },
      "source": [
        "## What is MobileNetV2\n",
        "Paper: <a href=\"https://arxiv.org/pdf/1801.04381.pdf\"> https://arxiv.org/pdf/1801.04381.pdf </a>"
      ]
    },
    {
      "cell_type": "markdown",
      "metadata": {
        "id": "gFoxGA41Yzde"
      },
      "source": [
        "MobileNetV2 is a architecture that is optimized for mobile devices. It improves the state of the art performance of mobile models on multiple tasks and benchmarks as well as across a spectrum of different model\n",
        "sizes.\n",
        "\n",
        "<img src=\"https://github.com/nikhilroxtomar/Unet-with-Pretrained-Encoder/blob/master/images/MobileNetV2%20architecture.png?raw=1\" style=\"height:400px; \">\n",
        "\n",
        "The MobileNetV2 is used for the encoder/downsampling path of the U-Net (the left half of the U)\n",
        "<br/> <br/> <br/>\n",
        "<hr>"
      ]
    },
    {
      "cell_type": "markdown",
      "metadata": {
        "id": "LiFAlx83Yzdf"
      },
      "source": [
        "## What are the Advantages of using a MobileNetV2 as Pretrained Encoder"
      ]
    },
    {
      "cell_type": "markdown",
      "metadata": {
        "id": "bPzscz4gYzdf"
      },
      "source": [
        "<ul>\n",
        "    <li> MobileNetV2 has less parameters, due to which it is easy to train. </li>\n",
        "    <li> Using a pretrained encoder helps the model to converge much faster in comparison to the non-pretrained model. </li>\n",
        "    <li> A pretrained encoder helps the model to achieve high performance as compared to non-pretrained model.</li>\n",
        "</ul>\n",
        "<br/>\n",
        "<hr>"
      ]
    },
    {
      "cell_type": "markdown",
      "metadata": {
        "id": "I9LMDXo_Yzdh"
      },
      "source": [
        "## Importing Libraries and Functions"
      ]
    },
    {
      "cell_type": "code",
      "metadata": {
        "id": "UVg36POVYzdi"
      },
      "source": [
        "import os\n",
        "import numpy as np\n",
        "import cv2\n",
        "from glob import glob\n",
        "import tensorflow as tf\n",
        "import matplotlib.pyplot as plt\n",
        "from sklearn.model_selection import train_test_split\n",
        "\n",
        "from tensorflow.keras.layers import Conv2D, Activation, BatchNormalization\n",
        "from tensorflow.keras.layers import UpSampling2D, Input, Concatenate\n",
        "from tensorflow.keras.models import Model\n",
        "from tensorflow.keras.applications import MobileNetV2\n",
        "from tensorflow.keras.callbacks import EarlyStopping, ReduceLROnPlateau\n",
        "from tensorflow.keras.metrics import Recall, Precision\n",
        "from tensorflow.keras import backend as K"
      ],
      "execution_count": 2,
      "outputs": []
    },
    {
      "cell_type": "code",
      "metadata": {
        "id": "poGJMYPLYzdj",
        "colab": {
          "base_uri": "https://localhost:8080/"
        },
        "outputId": "14085aea-f33a-4b92-8874-6aa356192dd9"
      },
      "source": [
        "print(\"TensorFlow Version: \", tf.__version__)"
      ],
      "execution_count": 3,
      "outputs": [
        {
          "output_type": "stream",
          "text": [
            "TensorFlow Version:  2.5.0\n"
          ],
          "name": "stdout"
        }
      ]
    },
    {
      "cell_type": "markdown",
      "metadata": {
        "id": "RtjPFyeOYzdm"
      },
      "source": [
        "Seeding"
      ]
    },
    {
      "cell_type": "code",
      "metadata": {
        "id": "rCuEDj6gYzdm"
      },
      "source": [
        "np.random.seed(42)\n",
        "tf.random.set_seed(42)"
      ],
      "execution_count": 4,
      "outputs": []
    },
    {
      "cell_type": "markdown",
      "metadata": {
        "id": "Ow0VY_Z9Yzdn"
      },
      "source": [
        "## Hyperparameters"
      ]
    },
    {
      "cell_type": "code",
      "metadata": {
        "id": "OrdHNUDYYzdn"
      },
      "source": [
        "IMAGE_SIZE = 256\n",
        "EPOCHS = 1000000\n",
        "BATCH = 32\n",
        "LR = 1e-4\n",
        "\n",
        "PATH = \"CVC-612/\""
      ],
      "execution_count": 5,
      "outputs": []
    },
    {
      "cell_type": "markdown",
      "metadata": {
        "id": "u-15ObcLYzdo"
      },
      "source": [
        "## Dataset\n",
        "You can download the dataset from <a href=\"https://polyp.grand-challenge.org/CVCClinicDB/\">here</a> or from directly from the <a href=\"https://www.dropbox.com/s/p5qe9eotetjnbmq/CVC-ClinicDB.rar?dl=0\">Dropbox</a>.\n",
        "\n",
        "<br/>\n",
        "Spliting the data into training, validation and testing with 80:10:10 ratio."
      ]
    },
    {
      "cell_type": "code",
      "metadata": {
        "id": "ocSk3qKEYzdp"
      },
      "source": [
        "def load_data(path, split=0.012):\n",
        "    images = sorted(glob(os.path.join(path, \"/content/drive/MyDrive/Unet/img/*\")))\n",
        "    masks = sorted(glob(os.path.join(path, \"/content/drive/MyDrive/Unet/mask/*\")))\n",
        "\n",
        "    total_size = len(images)\n",
        "    valid_size = int(split * total_size)\n",
        "    test_size = int(split * total_size)\n",
        "\n",
        "    train_x, valid_x = train_test_split(images, test_size=valid_size, random_state=42)\n",
        "    train_y, valid_y = train_test_split(masks, test_size=valid_size, random_state=42)\n",
        "\n",
        "    train_x, test_x = train_test_split(train_x, test_size=test_size, random_state=42)\n",
        "    train_y, test_y = train_test_split(train_y, test_size=test_size, random_state=42)\n",
        "\n",
        "    return (train_x, train_y), (valid_x, valid_y), (test_x, test_y)"
      ],
      "execution_count": 6,
      "outputs": []
    },
    {
      "cell_type": "markdown",
      "metadata": {
        "id": "HVdXZe-6Yzdq"
      },
      "source": [
        "Reading the images and masks"
      ]
    },
    {
      "cell_type": "code",
      "metadata": {
        "id": "wf6Z03AoYzdr"
      },
      "source": [
        "def read_image(path):\n",
        "    path = path.decode()\n",
        "    x = cv2.imread(path, cv2.IMREAD_COLOR)\n",
        "    x = cv2.resize(x, (IMAGE_SIZE, IMAGE_SIZE))\n",
        "    x = x/255.0\n",
        "    return x\n",
        "\n",
        "def read_mask(path):\n",
        "    path = path.decode()\n",
        "    x = cv2.imread(path, cv2.IMREAD_GRAYSCALE)\n",
        "    x = cv2.resize(x, (IMAGE_SIZE, IMAGE_SIZE))\n",
        "    x = x/255.0\n",
        "    x = np.expand_dims(x, axis=-1)\n",
        "    return x"
      ],
      "execution_count": 7,
      "outputs": []
    },
    {
      "cell_type": "markdown",
      "metadata": {
        "id": "MzW43Te7Yzds"
      },
      "source": [
        "Building the tf.data pipeline for training, validation and testing dataset."
      ]
    },
    {
      "cell_type": "code",
      "metadata": {
        "id": "nwcP1umoYzdt"
      },
      "source": [
        "def tf_parse(x, y):\n",
        "    def _parse(x, y):\n",
        "        x = read_image(x)\n",
        "        y = read_mask(y)\n",
        "        return x, y\n",
        "\n",
        "    x, y = tf.numpy_function(_parse, [x, y], [tf.float64, tf.float64])\n",
        "    x.set_shape([IMAGE_SIZE, IMAGE_SIZE, 3])\n",
        "    y.set_shape([IMAGE_SIZE, IMAGE_SIZE, 1])\n",
        "    return x, y\n",
        "\n",
        "def tf_dataset(x, y, batch=32):\n",
        "    dataset = tf.data.Dataset.from_tensor_slices((x, y))\n",
        "    dataset = dataset.map(tf_parse)\n",
        "    dataset = dataset.batch(batch)\n",
        "    dataset = dataset.repeat()\n",
        "    return dataset"
      ],
      "execution_count": 8,
      "outputs": []
    },
    {
      "cell_type": "code",
      "metadata": {
        "id": "_nRLWbKoYzdt",
        "colab": {
          "base_uri": "https://localhost:8080/"
        },
        "outputId": "3dbc3db6-00e5-4733-c233-cff06e31f29d"
      },
      "source": [
        "(train_x, train_y), (valid_x, valid_y), (test_x, test_y) = load_data(PATH)\n",
        "\n",
        "print(\"Training data: \", len(train_x))\n",
        "print(\"Validation data: \", len(valid_x))\n",
        "print(\"Testing data: \", len(test_x))"
      ],
      "execution_count": 9,
      "outputs": [
        {
          "output_type": "stream",
          "text": [
            "Training data:  512\n",
            "Validation data:  6\n",
            "Testing data:  6\n"
          ],
          "name": "stdout"
        }
      ]
    },
    {
      "cell_type": "code",
      "metadata": {
        "id": "g2P4jVWFYzdu"
      },
      "source": [
        "def read_and_rgb(x):\n",
        "    x = cv2.imread(x)\n",
        "    x = cv2.cvtColor(x, cv2.COLOR_BGR2RGB)\n",
        "    return x"
      ],
      "execution_count": 10,
      "outputs": []
    },
    {
      "cell_type": "code",
      "metadata": {
        "id": "dZ5mhJV_Yzdv",
        "colab": {
          "base_uri": "https://localhost:8080/",
          "height": 234
        },
        "outputId": "de0321a9-78f5-4b82-a33d-fc15e2b6e249"
      },
      "source": [
        "fig = plt.figure(figsize=(15, 15))\n",
        "a = fig.add_subplot(1, 4, 1)\n",
        "imgplot = plt.imshow(read_and_rgb(train_x[0]))\n",
        "\n",
        "a = fig.add_subplot(1, 4, 2)\n",
        "imgplot = plt.imshow(read_and_rgb(train_y[0]))\n",
        "imgplot.set_clim(0.0, 0.7)"
      ],
      "execution_count": 11,
      "outputs": [
        {
          "output_type": "display_data",
          "data": {
            "image/png": "[encoded data removed]",
            "text/plain": [
              "<Figure size 1080x1080 with 2 Axes>"
            ]
          },
          "metadata": {
            "tags": [],
            "needs_background": "light"
          }
        }
      ]
    },
    {
      "cell_type": "markdown",
      "metadata": {
        "id": "3PBcCJeFYzdw"
      },
      "source": [
        ""
      ]
    },
    {
      "cell_type": "code",
      "metadata": {
        "id": "2RG4pcM_Yzdw"
      },
      "source": [
        "def model():\n",
        "    inputs = Input(shape=(IMAGE_SIZE, IMAGE_SIZE, 3), name=\"input_image\")\n",
        "    \n",
        "    encoder = MobileNetV2(input_tensor=inputs, weights=\"imagenet\", include_top=False, alpha=0.35)\n",
        "    skip_connection_names = [\"input_image\", \"block_1_expand_relu\", \"block_3_expand_relu\", \"block_6_expand_relu\"]\n",
        "    encoder_output = encoder.get_layer(\"block_13_expand_relu\").output\n",
        "    \n",
        "    f = [16, 32, 48, 64]\n",
        "    x = encoder_output\n",
        "    for i in range(1, len(skip_connection_names)+1, 1):\n",
        "        x_skip = encoder.get_layer(skip_connection_names[-i]).output\n",
        "        x = UpSampling2D((2, 2))(x)\n",
        "        x = Concatenate()([x, x_skip])\n",
        "        \n",
        "        x = Conv2D(f[-i], (3, 3), padding=\"same\")(x)\n",
        "        x = BatchNormalization()(x)\n",
        "        x = Activation(\"relu\")(x)\n",
        "        \n",
        "        x = Conv2D(f[-i], (3, 3), padding=\"same\")(x)\n",
        "        x = BatchNormalization()(x)\n",
        "        x = Activation(\"relu\")(x)\n",
        "        \n",
        "    x = Conv2D(1, (1, 1), padding=\"same\")(x)\n",
        "    x = Activation(\"sigmoid\")(x)\n",
        "    \n",
        "    model = Model(inputs, x)\n",
        "    return model"
      ],
      "execution_count": 12,
      "outputs": []
    },
    {
      "cell_type": "code",
      "metadata": {
        "id": "9RfvI_XsYzdx",
        "colab": {
          "base_uri": "https://localhost:8080/"
        },
        "outputId": "c6655aeb-afe7-4f3a-f641-e7d97be1a933"
      },
      "source": [
        "model = model()\n",
        "model.summary()"
      ],
      "execution_count": 13,
      "outputs": [
        {
          "output_type": "stream",
          "text": [
            "WARNING:tensorflow:`input_shape` is undefined or non-square, or `rows` is not in [96, 128, 160, 192, 224]. Weights for input shape (224, 224) will be loaded as the default.\n",
            "Downloading data from https://storage.googleapis.com/tensorflow/keras-applications/mobilenet_v2/mobilenet_v2_weights_tf_dim_ordering_tf_kernels_0.35_224_no_top.h5\n",
            "2023424/2019640 [==============================] - 0s 0us/step\n",
            "Model: \"model\"\n",
            "__________________________________________________________________________________________________\n",
            "Layer (type)                    Output Shape         Param #     Connected to                     \n",
            "==================================================================================================\n",
            "input_image (InputLayer)        [(None, 256, 256, 3) 0                                            \n",
            "__________________________________________________________________________________________________\n",
            "Conv1 (Conv2D)                  (None, 128, 128, 16) 432         input_image[0][0]                \n",
            "__________________________________________________________________________________________________\n",
            "bn_Conv1 (BatchNormalization)   (None, 128, 128, 16) 64          Conv1[0][0]                      \n",
            "__________________________________________________________________________________________________\n",
            "Conv1_relu (ReLU)               (None, 128, 128, 16) 0           bn_Conv1[0][0]                   \n",
            "__________________________________________________________________________________________________\n",
            "expanded_conv_depthwise (Depthw (None, 128, 128, 16) 144         Conv1_relu[0][0]                 \n",
            "__________________________________________________________________________________________________\n",
            "expanded_conv_depthwise_BN (Bat (None, 128, 128, 16) 64          expanded_conv_depthwise[0][0]    \n",
            "__________________________________________________________________________________________________\n",
            "expanded_conv_depthwise_relu (R (None, 128, 128, 16) 0           expanded_conv_depthwise_BN[0][0] \n",
            "__________________________________________________________________________________________________\n",
            "expanded_conv_project (Conv2D)  (None, 128, 128, 8)  128         expanded_conv_depthwise_relu[0][0\n",
            "__________________________________________________________________________________________________\n",
            "expanded_conv_project_BN (Batch (None, 128, 128, 8)  32          expanded_conv_project[0][0]      \n",
            "__________________________________________________________________________________________________\n",
            "block_1_expand (Conv2D)         (None, 128, 128, 48) 384         expanded_conv_project_BN[0][0]   \n",
            "__________________________________________________________________________________________________\n",
            "block_1_expand_BN (BatchNormali (None, 128, 128, 48) 192         block_1_expand[0][0]             \n",
            "__________________________________________________________________________________________________\n",
            "block_1_expand_relu (ReLU)      (None, 128, 128, 48) 0           block_1_expand_BN[0][0]          \n",
            "__________________________________________________________________________________________________\n",
            "block_1_pad (ZeroPadding2D)     (None, 129, 129, 48) 0           block_1_expand_relu[0][0]        \n",
            "__________________________________________________________________________________________________\n",
            "block_1_depthwise (DepthwiseCon (None, 64, 64, 48)   432         block_1_pad[0][0]                \n",
            "__________________________________________________________________________________________________\n",
            "block_1_depthwise_BN (BatchNorm (None, 64, 64, 48)   192         block_1_depthwise[0][0]          \n",
            "__________________________________________________________________________________________________\n",
            "block_1_depthwise_relu (ReLU)   (None, 64, 64, 48)   0           block_1_depthwise_BN[0][0]       \n",
            "__________________________________________________________________________________________________\n",
            "block_1_project (Conv2D)        (None, 64, 64, 8)    384         block_1_depthwise_relu[0][0]     \n",
            "__________________________________________________________________________________________________\n",
            "block_1_project_BN (BatchNormal (None, 64, 64, 8)    32          block_1_project[0][0]            \n",
            "__________________________________________________________________________________________________\n",
            "block_2_expand (Conv2D)         (None, 64, 64, 48)   384         block_1_project_BN[0][0]         \n",
            "__________________________________________________________________________________________________\n",
            "block_2_expand_BN (BatchNormali (None, 64, 64, 48)   192         block_2_expand[0][0]             \n",
            "__________________________________________________________________________________________________\n",
            "block_2_expand_relu (ReLU)      (None, 64, 64, 48)   0           block_2_expand_BN[0][0]          \n",
            "__________________________________________________________________________________________________\n",
            "block_2_depthwise (DepthwiseCon (None, 64, 64, 48)   432         block_2_expand_relu[0][0]        \n",
            "__________________________________________________________________________________________________\n",
            "block_2_depthwise_BN (BatchNorm (None, 64, 64, 48)   192         block_2_depthwise[0][0]          \n",
            "__________________________________________________________________________________________________\n",
            "block_2_depthwise_relu (ReLU)   (None, 64, 64, 48)   0           block_2_depthwise_BN[0][0]       \n",
            "__________________________________________________________________________________________________\n",
            "block_2_project (Conv2D)        (None, 64, 64, 8)    384         block_2_depthwise_relu[0][0]     \n",
            "__________________________________________________________________________________________________\n",
            "block_2_project_BN (BatchNormal (None, 64, 64, 8)    32          block_2_project[0][0]            \n",
            "__________________________________________________________________________________________________\n",
            "block_2_add (Add)               (None, 64, 64, 8)    0           block_1_project_BN[0][0]         \n",
            "                                                                 block_2_project_BN[0][0]         \n",
            "__________________________________________________________________________________________________\n",
            "block_3_expand (Conv2D)         (None, 64, 64, 48)   384         block_2_add[0][0]                \n",
            "__________________________________________________________________________________________________\n",
            "block_3_expand_BN (BatchNormali (None, 64, 64, 48)   192         block_3_expand[0][0]             \n",
            "__________________________________________________________________________________________________\n",
            "block_3_expand_relu (ReLU)      (None, 64, 64, 48)   0           block_3_expand_BN[0][0]          \n",
            "__________________________________________________________________________________________________\n",
            "block_3_pad (ZeroPadding2D)     (None, 65, 65, 48)   0           block_3_expand_relu[0][0]        \n",
            "__________________________________________________________________________________________________\n",
            "block_3_depthwise (DepthwiseCon (None, 32, 32, 48)   432         block_3_pad[0][0]                \n",
            "__________________________________________________________________________________________________\n",
            "block_3_depthwise_BN (BatchNorm (None, 32, 32, 48)   192         block_3_depthwise[0][0]          \n",
            "__________________________________________________________________________________________________\n",
            "block_3_depthwise_relu (ReLU)   (None, 32, 32, 48)   0           block_3_depthwise_BN[0][0]       \n",
            "__________________________________________________________________________________________________\n",
            "block_3_project (Conv2D)        (None, 32, 32, 16)   768         block_3_depthwise_relu[0][0]     \n",
            "__________________________________________________________________________________________________\n",
            "block_3_project_BN (BatchNormal (None, 32, 32, 16)   64          block_3_project[0][0]            \n",
            "__________________________________________________________________________________________________\n",
            "block_4_expand (Conv2D)         (None, 32, 32, 96)   1536        block_3_project_BN[0][0]         \n",
            "__________________________________________________________________________________________________\n",
            "block_4_expand_BN (BatchNormali (None, 32, 32, 96)   384         block_4_expand[0][0]             \n",
            "__________________________________________________________________________________________________\n",
            "block_4_expand_relu (ReLU)      (None, 32, 32, 96)   0           block_4_expand_BN[0][0]          \n",
            "__________________________________________________________________________________________________\n",
            "block_4_depthwise (DepthwiseCon (None, 32, 32, 96)   864         block_4_expand_relu[0][0]        \n",
            "__________________________________________________________________________________________________\n",
            "block_4_depthwise_BN (BatchNorm (None, 32, 32, 96)   384         block_4_depthwise[0][0]          \n",
            "__________________________________________________________________________________________________\n",
            "block_4_depthwise_relu (ReLU)   (None, 32, 32, 96)   0           block_4_depthwise_BN[0][0]       \n",
            "__________________________________________________________________________________________________\n",
            "block_4_project (Conv2D)        (None, 32, 32, 16)   1536        block_4_depthwise_relu[0][0]     \n",
            "__________________________________________________________________________________________________\n",
            "block_4_project_BN (BatchNormal (None, 32, 32, 16)   64          block_4_project[0][0]            \n",
            "__________________________________________________________________________________________________\n",
            "block_4_add (Add)               (None, 32, 32, 16)   0           block_3_project_BN[0][0]         \n",
            "                                                                 block_4_project_BN[0][0]         \n",
            "__________________________________________________________________________________________________\n",
            "block_5_expand (Conv2D)         (None, 32, 32, 96)   1536        block_4_add[0][0]                \n",
            "__________________________________________________________________________________________________\n",
            "block_5_expand_BN (BatchNormali (None, 32, 32, 96)   384         block_5_expand[0][0]             \n",
            "__________________________________________________________________________________________________\n",
            "block_5_expand_relu (ReLU)      (None, 32, 32, 96)   0           block_5_expand_BN[0][0]          \n",
            "__________________________________________________________________________________________________\n",
            "block_5_depthwise (DepthwiseCon (None, 32, 32, 96)   864         block_5_expand_relu[0][0]        \n",
            "__________________________________________________________________________________________________\n",
            "block_5_depthwise_BN (BatchNorm (None, 32, 32, 96)   384         block_5_depthwise[0][0]          \n",
            "__________________________________________________________________________________________________\n",
            "block_5_depthwise_relu (ReLU)   (None, 32, 32, 96)   0           block_5_depthwise_BN[0][0]       \n",
            "__________________________________________________________________________________________________\n",
            "block_5_project (Conv2D)        (None, 32, 32, 16)   1536        block_5_depthwise_relu[0][0]     \n",
            "__________________________________________________________________________________________________\n",
            "block_5_project_BN (BatchNormal (None, 32, 32, 16)   64          block_5_project[0][0]            \n",
            "__________________________________________________________________________________________________\n",
            "block_5_add (Add)               (None, 32, 32, 16)   0           block_4_add[0][0]                \n",
            "                                                                 block_5_project_BN[0][0]         \n",
            "__________________________________________________________________________________________________\n",
            "block_6_expand (Conv2D)         (None, 32, 32, 96)   1536        block_5_add[0][0]                \n",
            "__________________________________________________________________________________________________\n",
            "block_6_expand_BN (BatchNormali (None, 32, 32, 96)   384         block_6_expand[0][0]             \n",
            "__________________________________________________________________________________________________\n",
            "block_6_expand_relu (ReLU)      (None, 32, 32, 96)   0           block_6_expand_BN[0][0]          \n",
            "__________________________________________________________________________________________________\n",
            "block_6_pad (ZeroPadding2D)     (None, 33, 33, 96)   0           block_6_expand_relu[0][0]        \n",
            "__________________________________________________________________________________________________\n",
            "block_6_depthwise (DepthwiseCon (None, 16, 16, 96)   864         block_6_pad[0][0]                \n",
            "__________________________________________________________________________________________________\n",
            "block_6_depthwise_BN (BatchNorm (None, 16, 16, 96)   384         block_6_depthwise[0][0]          \n",
            "__________________________________________________________________________________________________\n",
            "block_6_depthwise_relu (ReLU)   (None, 16, 16, 96)   0           block_6_depthwise_BN[0][0]       \n",
            "__________________________________________________________________________________________________\n",
            "block_6_project (Conv2D)        (None, 16, 16, 24)   2304        block_6_depthwise_relu[0][0]     \n",
            "__________________________________________________________________________________________________\n",
            "block_6_project_BN (BatchNormal (None, 16, 16, 24)   96          block_6_project[0][0]            \n",
            "__________________________________________________________________________________________________\n",
            "block_7_expand (Conv2D)         (None, 16, 16, 144)  3456        block_6_project_BN[0][0]         \n",
            "__________________________________________________________________________________________________\n",
            "block_7_expand_BN (BatchNormali (None, 16, 16, 144)  576         block_7_expand[0][0]             \n",
            "__________________________________________________________________________________________________\n",
            "block_7_expand_relu (ReLU)      (None, 16, 16, 144)  0           block_7_expand_BN[0][0]          \n",
            "__________________________________________________________________________________________________\n",
            "block_7_depthwise (DepthwiseCon (None, 16, 16, 144)  1296        block_7_expand_relu[0][0]        \n",
            "__________________________________________________________________________________________________\n",
            "block_7_depthwise_BN (BatchNorm (None, 16, 16, 144)  576         block_7_depthwise[0][0]          \n",
            "__________________________________________________________________________________________________\n",
            "block_7_depthwise_relu (ReLU)   (None, 16, 16, 144)  0           block_7_depthwise_BN[0][0]       \n",
            "__________________________________________________________________________________________________\n",
            "block_7_project (Conv2D)        (None, 16, 16, 24)   3456        block_7_depthwise_relu[0][0]     \n",
            "__________________________________________________________________________________________________\n",
            "block_7_project_BN (BatchNormal (None, 16, 16, 24)   96          block_7_project[0][0]            \n",
            "__________________________________________________________________________________________________\n",
            "block_7_add (Add)               (None, 16, 16, 24)   0           block_6_project_BN[0][0]         \n",
            "                                                                 block_7_project_BN[0][0]         \n",
            "__________________________________________________________________________________________________\n",
            "block_8_expand (Conv2D)         (None, 16, 16, 144)  3456        block_7_add[0][0]                \n",
            "__________________________________________________________________________________________________\n",
            "block_8_expand_BN (BatchNormali (None, 16, 16, 144)  576         block_8_expand[0][0]             \n",
            "__________________________________________________________________________________________________\n",
            "block_8_expand_relu (ReLU)      (None, 16, 16, 144)  0           block_8_expand_BN[0][0]          \n",
            "__________________________________________________________________________________________________\n",
            "block_8_depthwise (DepthwiseCon (None, 16, 16, 144)  1296        block_8_expand_relu[0][0]        \n",
            "__________________________________________________________________________________________________\n",
            "block_8_depthwise_BN (BatchNorm (None, 16, 16, 144)  576         block_8_depthwise[0][0]          \n",
            "__________________________________________________________________________________________________\n",
            "block_8_depthwise_relu (ReLU)   (None, 16, 16, 144)  0           block_8_depthwise_BN[0][0]       \n",
            "__________________________________________________________________________________________________\n",
            "block_8_project (Conv2D)        (None, 16, 16, 24)   3456        block_8_depthwise_relu[0][0]     \n",
            "__________________________________________________________________________________________________\n",
            "block_8_project_BN (BatchNormal (None, 16, 16, 24)   96          block_8_project[0][0]            \n",
            "__________________________________________________________________________________________________\n",
            "block_8_add (Add)               (None, 16, 16, 24)   0           block_7_add[0][0]                \n",
            "                                                                 block_8_project_BN[0][0]         \n",
            "__________________________________________________________________________________________________\n",
            "block_9_expand (Conv2D)         (None, 16, 16, 144)  3456        block_8_add[0][0]                \n",
            "__________________________________________________________________________________________________\n",
            "block_9_expand_BN (BatchNormali (None, 16, 16, 144)  576         block_9_expand[0][0]             \n",
            "__________________________________________________________________________________________________\n",
            "block_9_expand_relu (ReLU)      (None, 16, 16, 144)  0           block_9_expand_BN[0][0]          \n",
            "__________________________________________________________________________________________________\n",
            "block_9_depthwise (DepthwiseCon (None, 16, 16, 144)  1296        block_9_expand_relu[0][0]        \n",
            "__________________________________________________________________________________________________\n",
            "block_9_depthwise_BN (BatchNorm (None, 16, 16, 144)  576         block_9_depthwise[0][0]          \n",
            "__________________________________________________________________________________________________\n",
            "block_9_depthwise_relu (ReLU)   (None, 16, 16, 144)  0           block_9_depthwise_BN[0][0]       \n",
            "__________________________________________________________________________________________________\n",
            "block_9_project (Conv2D)        (None, 16, 16, 24)   3456        block_9_depthwise_relu[0][0]     \n",
            "__________________________________________________________________________________________________\n",
            "block_9_project_BN (BatchNormal (None, 16, 16, 24)   96          block_9_project[0][0]            \n",
            "__________________________________________________________________________________________________\n",
            "block_9_add (Add)               (None, 16, 16, 24)   0           block_8_add[0][0]                \n",
            "                                                                 block_9_project_BN[0][0]         \n",
            "__________________________________________________________________________________________________\n",
            "block_10_expand (Conv2D)        (None, 16, 16, 144)  3456        block_9_add[0][0]                \n",
            "__________________________________________________________________________________________________\n",
            "block_10_expand_BN (BatchNormal (None, 16, 16, 144)  576         block_10_expand[0][0]            \n",
            "__________________________________________________________________________________________________\n",
            "block_10_expand_relu (ReLU)     (None, 16, 16, 144)  0           block_10_expand_BN[0][0]         \n",
            "__________________________________________________________________________________________________\n",
            "block_10_depthwise (DepthwiseCo (None, 16, 16, 144)  1296        block_10_expand_relu[0][0]       \n",
            "__________________________________________________________________________________________________\n",
            "block_10_depthwise_BN (BatchNor (None, 16, 16, 144)  576         block_10_depthwise[0][0]         \n",
            "__________________________________________________________________________________________________\n",
            "block_10_depthwise_relu (ReLU)  (None, 16, 16, 144)  0           block_10_depthwise_BN[0][0]      \n",
            "__________________________________________________________________________________________________\n",
            "block_10_project (Conv2D)       (None, 16, 16, 32)   4608        block_10_depthwise_relu[0][0]    \n",
            "__________________________________________________________________________________________________\n",
            "block_10_project_BN (BatchNorma (None, 16, 16, 32)   128         block_10_project[0][0]           \n",
            "__________________________________________________________________________________________________\n",
            "block_11_expand (Conv2D)        (None, 16, 16, 192)  6144        block_10_project_BN[0][0]        \n",
            "__________________________________________________________________________________________________\n",
            "block_11_expand_BN (BatchNormal (None, 16, 16, 192)  768         block_11_expand[0][0]            \n",
            "__________________________________________________________________________________________________\n",
            "block_11_expand_relu (ReLU)     (None, 16, 16, 192)  0           block_11_expand_BN[0][0]         \n",
            "__________________________________________________________________________________________________\n",
            "block_11_depthwise (DepthwiseCo (None, 16, 16, 192)  1728        block_11_expand_relu[0][0]       \n",
            "__________________________________________________________________________________________________\n",
            "block_11_depthwise_BN (BatchNor (None, 16, 16, 192)  768         block_11_depthwise[0][0]         \n",
            "__________________________________________________________________________________________________\n",
            "block_11_depthwise_relu (ReLU)  (None, 16, 16, 192)  0           block_11_depthwise_BN[0][0]      \n",
            "__________________________________________________________________________________________________\n",
            "block_11_project (Conv2D)       (None, 16, 16, 32)   6144        block_11_depthwise_relu[0][0]    \n",
            "__________________________________________________________________________________________________\n",
            "block_11_project_BN (BatchNorma (None, 16, 16, 32)   128         block_11_project[0][0]           \n",
            "__________________________________________________________________________________________________\n",
            "block_11_add (Add)              (None, 16, 16, 32)   0           block_10_project_BN[0][0]        \n",
            "                                                                 block_11_project_BN[0][0]        \n",
            "__________________________________________________________________________________________________\n",
            "block_12_expand (Conv2D)        (None, 16, 16, 192)  6144        block_11_add[0][0]               \n",
            "__________________________________________________________________________________________________\n",
            "block_12_expand_BN (BatchNormal (None, 16, 16, 192)  768         block_12_expand[0][0]            \n",
            "__________________________________________________________________________________________________\n",
            "block_12_expand_relu (ReLU)     (None, 16, 16, 192)  0           block_12_expand_BN[0][0]         \n",
            "__________________________________________________________________________________________________\n",
            "block_12_depthwise (DepthwiseCo (None, 16, 16, 192)  1728        block_12_expand_relu[0][0]       \n",
            "__________________________________________________________________________________________________\n",
            "block_12_depthwise_BN (BatchNor (None, 16, 16, 192)  768         block_12_depthwise[0][0]         \n",
            "__________________________________________________________________________________________________\n",
            "block_12_depthwise_relu (ReLU)  (None, 16, 16, 192)  0           block_12_depthwise_BN[0][0]      \n",
            "__________________________________________________________________________________________________\n",
            "block_12_project (Conv2D)       (None, 16, 16, 32)   6144        block_12_depthwise_relu[0][0]    \n",
            "__________________________________________________________________________________________________\n",
            "block_12_project_BN (BatchNorma (None, 16, 16, 32)   128         block_12_project[0][0]           \n",
            "__________________________________________________________________________________________________\n",
            "block_12_add (Add)              (None, 16, 16, 32)   0           block_11_add[0][0]               \n",
            "                                                                 block_12_project_BN[0][0]        \n",
            "__________________________________________________________________________________________________\n",
            "block_13_expand (Conv2D)        (None, 16, 16, 192)  6144        block_12_add[0][0]               \n",
            "__________________________________________________________________________________________________\n",
            "block_13_expand_BN (BatchNormal (None, 16, 16, 192)  768         block_13_expand[0][0]            \n",
            "__________________________________________________________________________________________________\n",
            "block_13_expand_relu (ReLU)     (None, 16, 16, 192)  0           block_13_expand_BN[0][0]         \n",
            "__________________________________________________________________________________________________\n",
            "up_sampling2d (UpSampling2D)    (None, 32, 32, 192)  0           block_13_expand_relu[0][0]       \n",
            "__________________________________________________________________________________________________\n",
            "concatenate (Concatenate)       (None, 32, 32, 288)  0           up_sampling2d[0][0]              \n",
            "                                                                 block_6_expand_relu[0][0]        \n",
            "__________________________________________________________________________________________________\n",
            "conv2d (Conv2D)                 (None, 32, 32, 64)   165952      concatenate[0][0]                \n",
            "__________________________________________________________________________________________________\n",
            "batch_normalization (BatchNorma (None, 32, 32, 64)   256         conv2d[0][0]                     \n",
            "__________________________________________________________________________________________________\n",
            "activation (Activation)         (None, 32, 32, 64)   0           batch_normalization[0][0]        \n",
            "__________________________________________________________________________________________________\n",
            "conv2d_1 (Conv2D)               (None, 32, 32, 64)   36928       activation[0][0]                 \n",
            "__________________________________________________________________________________________________\n",
            "batch_normalization_1 (BatchNor (None, 32, 32, 64)   256         conv2d_1[0][0]                   \n",
            "__________________________________________________________________________________________________\n",
            "activation_1 (Activation)       (None, 32, 32, 64)   0           batch_normalization_1[0][0]      \n",
            "__________________________________________________________________________________________________\n",
            "up_sampling2d_1 (UpSampling2D)  (None, 64, 64, 64)   0           activation_1[0][0]               \n",
            "__________________________________________________________________________________________________\n",
            "concatenate_1 (Concatenate)     (None, 64, 64, 112)  0           up_sampling2d_1[0][0]            \n",
            "                                                                 block_3_expand_relu[0][0]        \n",
            "__________________________________________________________________________________________________\n",
            "conv2d_2 (Conv2D)               (None, 64, 64, 48)   48432       concatenate_1[0][0]              \n",
            "__________________________________________________________________________________________________\n",
            "batch_normalization_2 (BatchNor (None, 64, 64, 48)   192         conv2d_2[0][0]                   \n",
            "__________________________________________________________________________________________________\n",
            "activation_2 (Activation)       (None, 64, 64, 48)   0           batch_normalization_2[0][0]      \n",
            "__________________________________________________________________________________________________\n",
            "conv2d_3 (Conv2D)               (None, 64, 64, 48)   20784       activation_2[0][0]               \n",
            "__________________________________________________________________________________________________\n",
            "batch_normalization_3 (BatchNor (None, 64, 64, 48)   192         conv2d_3[0][0]                   \n",
            "__________________________________________________________________________________________________\n",
            "activation_3 (Activation)       (None, 64, 64, 48)   0           batch_normalization_3[0][0]      \n",
            "__________________________________________________________________________________________________\n",
            "up_sampling2d_2 (UpSampling2D)  (None, 128, 128, 48) 0           activation_3[0][0]               \n",
            "__________________________________________________________________________________________________\n",
            "concatenate_2 (Concatenate)     (None, 128, 128, 96) 0           up_sampling2d_2[0][0]            \n",
            "                                                                 block_1_expand_relu[0][0]        \n",
            "__________________________________________________________________________________________________\n",
            "conv2d_4 (Conv2D)               (None, 128, 128, 32) 27680       concatenate_2[0][0]              \n",
            "__________________________________________________________________________________________________\n",
            "batch_normalization_4 (BatchNor (None, 128, 128, 32) 128         conv2d_4[0][0]                   \n",
            "__________________________________________________________________________________________________\n",
            "activation_4 (Activation)       (None, 128, 128, 32) 0           batch_normalization_4[0][0]      \n",
            "__________________________________________________________________________________________________\n",
            "conv2d_5 (Conv2D)               (None, 128, 128, 32) 9248        activation_4[0][0]               \n",
            "__________________________________________________________________________________________________\n",
            "batch_normalization_5 (BatchNor (None, 128, 128, 32) 128         conv2d_5[0][0]                   \n",
            "__________________________________________________________________________________________________\n",
            "activation_5 (Activation)       (None, 128, 128, 32) 0           batch_normalization_5[0][0]      \n",
            "__________________________________________________________________________________________________\n",
            "up_sampling2d_3 (UpSampling2D)  (None, 256, 256, 32) 0           activation_5[0][0]               \n",
            "__________________________________________________________________________________________________\n",
            "concatenate_3 (Concatenate)     (None, 256, 256, 35) 0           up_sampling2d_3[0][0]            \n",
            "                                                                 input_image[0][0]                \n",
            "__________________________________________________________________________________________________\n",
            "conv2d_6 (Conv2D)               (None, 256, 256, 16) 5056        concatenate_3[0][0]              \n",
            "__________________________________________________________________________________________________\n",
            "batch_normalization_6 (BatchNor (None, 256, 256, 16) 64          conv2d_6[0][0]                   \n",
            "__________________________________________________________________________________________________\n",
            "activation_6 (Activation)       (None, 256, 256, 16) 0           batch_normalization_6[0][0]      \n",
            "__________________________________________________________________________________________________\n",
            "conv2d_7 (Conv2D)               (None, 256, 256, 16) 2320        activation_6[0][0]               \n",
            "__________________________________________________________________________________________________\n",
            "batch_normalization_7 (BatchNor (None, 256, 256, 16) 64          conv2d_7[0][0]                   \n",
            "__________________________________________________________________________________________________\n",
            "activation_7 (Activation)       (None, 256, 256, 16) 0           batch_normalization_7[0][0]      \n",
            "__________________________________________________________________________________________________\n",
            "conv2d_8 (Conv2D)               (None, 256, 256, 1)  17          activation_7[0][0]               \n",
            "__________________________________________________________________________________________________\n",
            "activation_8 (Activation)       (None, 256, 256, 1)  0           conv2d_8[0][0]                   \n",
            "==================================================================================================\n",
            "Total params: 416,209\n",
            "Trainable params: 409,025\n",
            "Non-trainable params: 7,184\n",
            "__________________________________________________________________________________________________\n"
          ],
          "name": "stdout"
        }
      ]
    },
    {
      "cell_type": "markdown",
      "metadata": {
        "id": "EGTOBXabYzdy"
      },
      "source": [
        "## Metrics"
      ]
    },
    {
      "cell_type": "code",
      "metadata": {
        "id": "n1IXHztOYzdy"
      },
      "source": [
        "smooth = 1e-15\n",
        "def dice_coef(y_true, y_pred):\n",
        "    y_true = tf.keras.layers.Flatten()(y_true)\n",
        "    y_pred = tf.keras.layers.Flatten()(y_pred)\n",
        "    intersection = tf.reduce_sum(y_true * y_pred)\n",
        "    return (2. * intersection + smooth) / (tf.reduce_sum(y_true) + tf.reduce_sum(y_pred) + smooth)\n",
        "\n",
        "def dice_loss(y_true, y_pred):\n",
        "    return 1.0 - dice_coef(y_true, y_pred)"
      ],
      "execution_count": 14,
      "outputs": []
    },
    {
      "cell_type": "markdown",
      "metadata": {
        "id": "ZgDgzRexYzdz"
      },
      "source": [
        "## Training"
      ]
    },
    {
      "cell_type": "code",
      "metadata": {
        "id": "55P_AkofYzd0"
      },
      "source": [
        "train_dataset = tf_dataset(train_x, train_y, batch=BATCH)\n",
        "valid_dataset = tf_dataset(valid_x, valid_y, batch=BATCH)"
      ],
      "execution_count": 15,
      "outputs": []
    },
    {
      "cell_type": "code",
      "metadata": {
        "id": "lAeiGGO4Yzd1"
      },
      "source": [
        "opt = tf.keras.optimizers.Nadam(LR)\n",
        "metrics = [dice_coef, Recall(), Precision()]\n",
        "model.compile(loss=dice_loss, optimizer=opt, metrics=metrics)"
      ],
      "execution_count": 16,
      "outputs": []
    },
    {
      "cell_type": "code",
      "metadata": {
        "id": "A8OPmTC9Yzd2"
      },
      "source": [
        "callbacks = [\n",
        "    ReduceLROnPlateau(monitor='val_loss', factor=0.1, patience=4),\n",
        "    EarlyStopping(monitor='val_loss', patience=10, restore_best_weights=False)\n",
        "]"
      ],
      "execution_count": 17,
      "outputs": []
    },
    {
      "cell_type": "code",
      "metadata": {
        "scrolled": false,
        "id": "9zLLrQGlYzd4",
        "colab": {
          "base_uri": "https://localhost:8080/"
        },
        "outputId": "5f279df4-a1e2-4245-e97b-967b87c0d14a"
      },
      "source": [
        "train_steps = len(train_x)//BATCH\n",
        "valid_steps = len(valid_x)//BATCH\n",
        "\n",
        "if len(train_x) % BATCH != 0:\n",
        "    train_steps += 1\n",
        "if len(valid_x) % BATCH != 0:\n",
        "    valid_steps += 1\n",
        "\n",
        "model.fit(\n",
        "    train_dataset,\n",
        "    validation_data=valid_dataset,\n",
        "    epochs=EPOCHS,\n",
        "    steps_per_epoch=train_steps,\n",
        "    validation_steps=valid_steps,\n",
        "    callbacks=callbacks\n",
        ")"
      ],
      "execution_count": 18,
      "outputs": [
        {
          "output_type": "stream",
          "text": [
            "Epoch 1/1000000\n",
            "16/16 [==============================] - 252s 13s/step - loss: 0.6708 - dice_coef: 0.3292 - recall: 0.3691 - precision: 0.4584 - val_loss: 0.6967 - val_dice_coef: 0.3033 - val_recall: 0.9174 - val_precision: 0.3011\n",
            "Epoch 2/1000000\n",
            "16/16 [==============================] - 6s 390ms/step - loss: 0.5477 - dice_coef: 0.4523 - recall: 0.6853 - precision: 0.6999 - val_loss: 0.6180 - val_dice_coef: 0.3820 - val_recall: 0.9980 - val_precision: 0.2773\n",
            "Epoch 3/1000000\n",
            "16/16 [==============================] - 6s 388ms/step - loss: 0.4613 - dice_coef: 0.5387 - recall: 0.8532 - precision: 0.7976 - val_loss: 0.6003 - val_dice_coef: 0.3997 - val_recall: 0.9996 - val_precision: 0.2855\n",
            "Epoch 4/1000000\n",
            "16/16 [==============================] - 6s 386ms/step - loss: 0.3835 - dice_coef: 0.6165 - recall: 0.9292 - precision: 0.8492 - val_loss: 0.5783 - val_dice_coef: 0.4217 - val_recall: 0.9984 - val_precision: 0.3180\n",
            "Epoch 5/1000000\n",
            "16/16 [==============================] - 6s 387ms/step - loss: 0.3357 - dice_coef: 0.6643 - recall: 0.9535 - precision: 0.8826 - val_loss: 0.5465 - val_dice_coef: 0.4535 - val_recall: 0.9956 - val_precision: 0.3839\n",
            "Epoch 6/1000000\n",
            "16/16 [==============================] - 6s 386ms/step - loss: 0.3108 - dice_coef: 0.6892 - recall: 0.9615 - precision: 0.9030 - val_loss: 0.5162 - val_dice_coef: 0.4838 - val_recall: 0.9921 - val_precision: 0.4679\n",
            "Epoch 7/1000000\n",
            "16/16 [==============================] - 6s 386ms/step - loss: 0.2951 - dice_coef: 0.7049 - recall: 0.9649 - precision: 0.9169 - val_loss: 0.4841 - val_dice_coef: 0.5159 - val_recall: 0.9882 - val_precision: 0.5383\n",
            "Epoch 8/1000000\n",
            "16/16 [==============================] - 6s 382ms/step - loss: 0.2830 - dice_coef: 0.7170 - recall: 0.9658 - precision: 0.9281 - val_loss: 0.4451 - val_dice_coef: 0.5549 - val_recall: 0.9834 - val_precision: 0.6003\n",
            "Epoch 9/1000000\n",
            "16/16 [==============================] - 7s 399ms/step - loss: 0.2725 - dice_coef: 0.7275 - recall: 0.9647 - precision: 0.9383 - val_loss: 0.4002 - val_dice_coef: 0.5998 - val_recall: 0.9771 - val_precision: 0.6612\n",
            "Epoch 10/1000000\n",
            "16/16 [==============================] - 6s 385ms/step - loss: 0.2635 - dice_coef: 0.7365 - recall: 0.9633 - precision: 0.9468 - val_loss: 0.3688 - val_dice_coef: 0.6312 - val_recall: 0.9719 - val_precision: 0.7160\n",
            "Epoch 11/1000000\n",
            "16/16 [==============================] - 6s 381ms/step - loss: 0.2557 - dice_coef: 0.7443 - recall: 0.9622 - precision: 0.9534 - val_loss: 0.3486 - val_dice_coef: 0.6514 - val_recall: 0.9678 - val_precision: 0.7568\n",
            "Epoch 12/1000000\n",
            "16/16 [==============================] - 6s 385ms/step - loss: 0.2487 - dice_coef: 0.7513 - recall: 0.9613 - precision: 0.9586 - val_loss: 0.3376 - val_dice_coef: 0.6624 - val_recall: 0.9634 - val_precision: 0.7897\n",
            "Epoch 13/1000000\n",
            "16/16 [==============================] - 6s 381ms/step - loss: 0.2422 - dice_coef: 0.7578 - recall: 0.9605 - precision: 0.9627 - val_loss: 0.3307 - val_dice_coef: 0.6693 - val_recall: 0.9574 - val_precision: 0.8162\n",
            "Epoch 14/1000000\n",
            "16/16 [==============================] - 6s 385ms/step - loss: 0.2362 - dice_coef: 0.7638 - recall: 0.9598 - precision: 0.9662 - val_loss: 0.3259 - val_dice_coef: 0.6741 - val_recall: 0.9504 - val_precision: 0.8380\n",
            "Epoch 15/1000000\n",
            "16/16 [==============================] - 6s 380ms/step - loss: 0.2304 - dice_coef: 0.7696 - recall: 0.9592 - precision: 0.9693 - val_loss: 0.3221 - val_dice_coef: 0.6779 - val_recall: 0.9427 - val_precision: 0.8578\n",
            "Epoch 16/1000000\n",
            "16/16 [==============================] - 6s 385ms/step - loss: 0.2248 - dice_coef: 0.7752 - recall: 0.9585 - precision: 0.9720 - val_loss: 0.3183 - val_dice_coef: 0.6817 - val_recall: 0.9305 - val_precision: 0.8814\n",
            "Epoch 17/1000000\n",
            "16/16 [==============================] - 6s 374ms/step - loss: 0.2191 - dice_coef: 0.7809 - recall: 0.9577 - precision: 0.9744 - val_loss: 0.3177 - val_dice_coef: 0.6823 - val_recall: 0.9150 - val_precision: 0.9029\n",
            "Epoch 18/1000000\n",
            "16/16 [==============================] - 6s 381ms/step - loss: 0.2127 - dice_coef: 0.7873 - recall: 0.9565 - precision: 0.9765 - val_loss: 0.3194 - val_dice_coef: 0.6806 - val_recall: 0.9004 - val_precision: 0.9261\n",
            "Epoch 19/1000000\n",
            "16/16 [==============================] - 6s 381ms/step - loss: 0.2055 - dice_coef: 0.7945 - recall: 0.9543 - precision: 0.9782 - val_loss: 0.3247 - val_dice_coef: 0.6753 - val_recall: 0.9214 - val_precision: 0.8793\n",
            "Epoch 20/1000000\n",
            "16/16 [==============================] - 6s 380ms/step - loss: 0.1999 - dice_coef: 0.8001 - recall: 0.9519 - precision: 0.9771 - val_loss: 0.3191 - val_dice_coef: 0.6809 - val_recall: 0.9295 - val_precision: 0.8591\n",
            "Epoch 21/1000000\n",
            "16/16 [==============================] - 6s 382ms/step - loss: 0.1921 - dice_coef: 0.8079 - recall: 0.9521 - precision: 0.9827 - val_loss: 0.3134 - val_dice_coef: 0.6866 - val_recall: 0.9389 - val_precision: 0.8333\n",
            "Epoch 22/1000000\n",
            "16/16 [==============================] - 6s 377ms/step - loss: 0.1873 - dice_coef: 0.8127 - recall: 0.9516 - precision: 0.9842 - val_loss: 0.3054 - val_dice_coef: 0.6946 - val_recall: 0.9460 - val_precision: 0.8191\n",
            "Epoch 23/1000000\n",
            "16/16 [==============================] - 6s 386ms/step - loss: 0.1832 - dice_coef: 0.8168 - recall: 0.9514 - precision: 0.9853 - val_loss: 0.2960 - val_dice_coef: 0.7040 - val_recall: 0.9497 - val_precision: 0.8175\n",
            "Epoch 24/1000000\n",
            "16/16 [==============================] - 6s 382ms/step - loss: 0.1795 - dice_coef: 0.8205 - recall: 0.9512 - precision: 0.9862 - val_loss: 0.2876 - val_dice_coef: 0.7124 - val_recall: 0.9526 - val_precision: 0.8154\n",
            "Epoch 25/1000000\n",
            "16/16 [==============================] - 6s 389ms/step - loss: 0.1760 - dice_coef: 0.8240 - recall: 0.9510 - precision: 0.9870 - val_loss: 0.2809 - val_dice_coef: 0.7191 - val_recall: 0.9549 - val_precision: 0.8117\n",
            "Epoch 26/1000000\n",
            "16/16 [==============================] - 7s 393ms/step - loss: 0.1726 - dice_coef: 0.8274 - recall: 0.9508 - precision: 0.9878 - val_loss: 0.2738 - val_dice_coef: 0.7262 - val_recall: 0.9560 - val_precision: 0.8117\n",
            "Epoch 27/1000000\n",
            "16/16 [==============================] - 6s 384ms/step - loss: 0.1695 - dice_coef: 0.8305 - recall: 0.9505 - precision: 0.9884 - val_loss: 0.2687 - val_dice_coef: 0.7313 - val_recall: 0.9575 - val_precision: 0.8090\n",
            "Epoch 28/1000000\n",
            "16/16 [==============================] - 6s 388ms/step - loss: 0.1664 - dice_coef: 0.8336 - recall: 0.9503 - precision: 0.9890 - val_loss: 0.2638 - val_dice_coef: 0.7362 - val_recall: 0.9584 - val_precision: 0.8081\n",
            "Epoch 29/1000000\n",
            "16/16 [==============================] - 6s 389ms/step - loss: 0.1636 - dice_coef: 0.8364 - recall: 0.9501 - precision: 0.9894 - val_loss: 0.2597 - val_dice_coef: 0.7403 - val_recall: 0.9586 - val_precision: 0.8071\n",
            "Epoch 30/1000000\n",
            "16/16 [==============================] - 6s 384ms/step - loss: 0.1609 - dice_coef: 0.8391 - recall: 0.9498 - precision: 0.9897 - val_loss: 0.2575 - val_dice_coef: 0.7425 - val_recall: 0.9642 - val_precision: 0.7962\n",
            "Epoch 31/1000000\n",
            "16/16 [==============================] - 6s 387ms/step - loss: 0.1588 - dice_coef: 0.8412 - recall: 0.9495 - precision: 0.9889 - val_loss: 0.2394 - val_dice_coef: 0.7606 - val_recall: 0.9528 - val_precision: 0.8395\n",
            "Epoch 32/1000000\n",
            "16/16 [==============================] - 6s 387ms/step - loss: 0.1556 - dice_coef: 0.8444 - recall: 0.9495 - precision: 0.9903 - val_loss: 0.2408 - val_dice_coef: 0.7592 - val_recall: 0.9557 - val_precision: 0.8255\n",
            "Epoch 33/1000000\n",
            "16/16 [==============================] - 6s 390ms/step - loss: 0.1529 - dice_coef: 0.8471 - recall: 0.9494 - precision: 0.9910 - val_loss: 0.2359 - val_dice_coef: 0.7641 - val_recall: 0.9595 - val_precision: 0.8272\n",
            "Epoch 34/1000000\n",
            "16/16 [==============================] - 6s 385ms/step - loss: 0.1504 - dice_coef: 0.8496 - recall: 0.9492 - precision: 0.9911 - val_loss: 0.2274 - val_dice_coef: 0.7726 - val_recall: 0.9534 - val_precision: 0.8440\n",
            "Epoch 35/1000000\n",
            "16/16 [==============================] - 7s 401ms/step - loss: 0.1480 - dice_coef: 0.8520 - recall: 0.9491 - precision: 0.9914 - val_loss: 0.2268 - val_dice_coef: 0.7732 - val_recall: 0.9547 - val_precision: 0.8373\n",
            "Epoch 36/1000000\n",
            "16/16 [==============================] - 6s 386ms/step - loss: 0.1455 - dice_coef: 0.8545 - recall: 0.9489 - precision: 0.9919 - val_loss: 0.2213 - val_dice_coef: 0.7787 - val_recall: 0.9586 - val_precision: 0.8404\n",
            "Epoch 37/1000000\n",
            "16/16 [==============================] - 7s 402ms/step - loss: 0.1432 - dice_coef: 0.8568 - recall: 0.9489 - precision: 0.9919 - val_loss: 0.2123 - val_dice_coef: 0.7877 - val_recall: 0.9512 - val_precision: 0.8603\n",
            "Epoch 38/1000000\n",
            "16/16 [==============================] - 7s 395ms/step - loss: 0.1410 - dice_coef: 0.8590 - recall: 0.9486 - precision: 0.9922 - val_loss: 0.2114 - val_dice_coef: 0.7886 - val_recall: 0.9544 - val_precision: 0.8545\n",
            "Epoch 39/1000000\n",
            "16/16 [==============================] - 7s 394ms/step - loss: 0.1386 - dice_coef: 0.8614 - recall: 0.9485 - precision: 0.9926 - val_loss: 0.2042 - val_dice_coef: 0.7958 - val_recall: 0.9549 - val_precision: 0.8642\n",
            "Epoch 40/1000000\n",
            "16/16 [==============================] - 7s 400ms/step - loss: 0.1364 - dice_coef: 0.8636 - recall: 0.9487 - precision: 0.9928 - val_loss: 0.1980 - val_dice_coef: 0.8020 - val_recall: 0.9472 - val_precision: 0.8801\n",
            "Epoch 41/1000000\n",
            "16/16 [==============================] - 7s 394ms/step - loss: 0.1343 - dice_coef: 0.8657 - recall: 0.9483 - precision: 0.9930 - val_loss: 0.1955 - val_dice_coef: 0.8045 - val_recall: 0.9520 - val_precision: 0.8767\n",
            "Epoch 42/1000000\n",
            "16/16 [==============================] - 7s 396ms/step - loss: 0.1323 - dice_coef: 0.8677 - recall: 0.9482 - precision: 0.9931 - val_loss: 0.1891 - val_dice_coef: 0.8109 - val_recall: 0.9501 - val_precision: 0.8875\n",
            "Epoch 43/1000000\n",
            "16/16 [==============================] - 6s 384ms/step - loss: 0.1301 - dice_coef: 0.8699 - recall: 0.9483 - precision: 0.9933 - val_loss: 0.1847 - val_dice_coef: 0.8153 - val_recall: 0.9439 - val_precision: 0.8986\n",
            "Epoch 44/1000000\n",
            "16/16 [==============================] - 7s 397ms/step - loss: 0.1280 - dice_coef: 0.8720 - recall: 0.9480 - precision: 0.9938 - val_loss: 0.1848 - val_dice_coef: 0.8152 - val_recall: 0.9529 - val_precision: 0.8877\n",
            "Epoch 45/1000000\n",
            "16/16 [==============================] - 6s 388ms/step - loss: 0.1262 - dice_coef: 0.8738 - recall: 0.9480 - precision: 0.9937 - val_loss: 0.1825 - val_dice_coef: 0.8175 - val_recall: 0.9511 - val_precision: 0.8896\n",
            "Epoch 46/1000000\n",
            "16/16 [==============================] - 7s 395ms/step - loss: 0.1245 - dice_coef: 0.8755 - recall: 0.9479 - precision: 0.9934 - val_loss: 0.1747 - val_dice_coef: 0.8253 - val_recall: 0.9450 - val_precision: 0.9093\n",
            "Epoch 47/1000000\n",
            "16/16 [==============================] - 7s 394ms/step - loss: 0.1227 - dice_coef: 0.8773 - recall: 0.9476 - precision: 0.9936 - val_loss: 0.1810 - val_dice_coef: 0.8190 - val_recall: 0.9543 - val_precision: 0.8827\n",
            "Epoch 48/1000000\n",
            "16/16 [==============================] - 6s 385ms/step - loss: 0.1206 - dice_coef: 0.8794 - recall: 0.9479 - precision: 0.9941 - val_loss: 0.1753 - val_dice_coef: 0.8247 - val_recall: 0.9482 - val_precision: 0.8971\n",
            "Epoch 49/1000000\n",
            "16/16 [==============================] - 6s 379ms/step - loss: 0.1186 - dice_coef: 0.8814 - recall: 0.9477 - precision: 0.9944 - val_loss: 0.1646 - val_dice_coef: 0.8354 - val_recall: 0.9462 - val_precision: 0.9205\n",
            "Epoch 50/1000000\n",
            "16/16 [==============================] - 6s 382ms/step - loss: 0.1171 - dice_coef: 0.8829 - recall: 0.9475 - precision: 0.9942 - val_loss: 0.1717 - val_dice_coef: 0.8283 - val_recall: 0.9514 - val_precision: 0.8951\n",
            "Epoch 51/1000000\n",
            "16/16 [==============================] - 6s 387ms/step - loss: 0.1155 - dice_coef: 0.8845 - recall: 0.9476 - precision: 0.9940 - val_loss: 0.1626 - val_dice_coef: 0.8374 - val_recall: 0.9450 - val_precision: 0.9189\n",
            "Epoch 52/1000000\n",
            "16/16 [==============================] - 7s 396ms/step - loss: 0.1133 - dice_coef: 0.8867 - recall: 0.9473 - precision: 0.9948 - val_loss: 0.1616 - val_dice_coef: 0.8384 - val_recall: 0.9474 - val_precision: 0.9159\n",
            "Epoch 53/1000000\n",
            "16/16 [==============================] - 6s 382ms/step - loss: 0.1115 - dice_coef: 0.8885 - recall: 0.9477 - precision: 0.9950 - val_loss: 0.1624 - val_dice_coef: 0.8376 - val_recall: 0.9439 - val_precision: 0.9146\n",
            "Epoch 54/1000000\n",
            "16/16 [==============================] - 6s 378ms/step - loss: 0.1102 - dice_coef: 0.8898 - recall: 0.9472 - precision: 0.9947 - val_loss: 0.1544 - val_dice_coef: 0.8456 - val_recall: 0.9430 - val_precision: 0.9292\n",
            "Epoch 55/1000000\n",
            "16/16 [==============================] - 6s 384ms/step - loss: 0.1088 - dice_coef: 0.8912 - recall: 0.9471 - precision: 0.9946 - val_loss: 0.1610 - val_dice_coef: 0.8390 - val_recall: 0.9509 - val_precision: 0.9036\n",
            "Epoch 56/1000000\n",
            "16/16 [==============================] - 6s 384ms/step - loss: 0.1070 - dice_coef: 0.8930 - recall: 0.9473 - precision: 0.9948 - val_loss: 0.1546 - val_dice_coef: 0.8454 - val_recall: 0.9438 - val_precision: 0.9220\n",
            "Epoch 57/1000000\n",
            "16/16 [==============================] - 6s 380ms/step - loss: 0.1051 - dice_coef: 0.8949 - recall: 0.9472 - precision: 0.9954 - val_loss: 0.1505 - val_dice_coef: 0.8495 - val_recall: 0.9421 - val_precision: 0.9259\n",
            "Epoch 58/1000000\n",
            "16/16 [==============================] - 6s 377ms/step - loss: 0.1038 - dice_coef: 0.8962 - recall: 0.9471 - precision: 0.9953 - val_loss: 0.1543 - val_dice_coef: 0.8457 - val_recall: 0.9479 - val_precision: 0.9125\n",
            "Epoch 59/1000000\n",
            "16/16 [==============================] - 6s 388ms/step - loss: 0.1024 - dice_coef: 0.8976 - recall: 0.9472 - precision: 0.9951 - val_loss: 0.1497 - val_dice_coef: 0.8503 - val_recall: 0.9413 - val_precision: 0.9247\n",
            "Epoch 60/1000000\n",
            "16/16 [==============================] - 6s 385ms/step - loss: 0.1008 - dice_coef: 0.8992 - recall: 0.9468 - precision: 0.9955 - val_loss: 0.1500 - val_dice_coef: 0.8500 - val_recall: 0.9436 - val_precision: 0.9155\n",
            "Epoch 61/1000000\n",
            "16/16 [==============================] - 6s 390ms/step - loss: 0.0992 - dice_coef: 0.9008 - recall: 0.9472 - precision: 0.9956 - val_loss: 0.1479 - val_dice_coef: 0.8521 - val_recall: 0.9370 - val_precision: 0.9253\n",
            "Epoch 62/1000000\n",
            "16/16 [==============================] - 6s 379ms/step - loss: 0.0980 - dice_coef: 0.9020 - recall: 0.9468 - precision: 0.9955 - val_loss: 0.1445 - val_dice_coef: 0.8555 - val_recall: 0.9372 - val_precision: 0.9275\n",
            "Epoch 63/1000000\n",
            "16/16 [==============================] - 6s 388ms/step - loss: 0.0968 - dice_coef: 0.9032 - recall: 0.9467 - precision: 0.9954 - val_loss: 0.1444 - val_dice_coef: 0.8556 - val_recall: 0.9440 - val_precision: 0.9186\n",
            "Epoch 64/1000000\n",
            "16/16 [==============================] - 6s 388ms/step - loss: 0.0953 - dice_coef: 0.9047 - recall: 0.9469 - precision: 0.9955 - val_loss: 0.1427 - val_dice_coef: 0.8573 - val_recall: 0.9368 - val_precision: 0.9276\n",
            "Epoch 65/1000000\n",
            "16/16 [==============================] - 6s 389ms/step - loss: 0.0937 - dice_coef: 0.9063 - recall: 0.9468 - precision: 0.9961 - val_loss: 0.1394 - val_dice_coef: 0.8606 - val_recall: 0.9325 - val_precision: 0.9331\n",
            "Epoch 66/1000000\n",
            "16/16 [==============================] - 6s 380ms/step - loss: 0.0925 - dice_coef: 0.9075 - recall: 0.9466 - precision: 0.9959 - val_loss: 0.1411 - val_dice_coef: 0.8589 - val_recall: 0.9461 - val_precision: 0.9176\n",
            "Epoch 67/1000000\n",
            "16/16 [==============================] - 6s 382ms/step - loss: 0.0914 - dice_coef: 0.9086 - recall: 0.9470 - precision: 0.9958 - val_loss: 0.1372 - val_dice_coef: 0.8628 - val_recall: 0.9324 - val_precision: 0.9344\n",
            "Epoch 68/1000000\n",
            "16/16 [==============================] - 7s 395ms/step - loss: 0.0898 - dice_coef: 0.9102 - recall: 0.9465 - precision: 0.9962 - val_loss: 0.1334 - val_dice_coef: 0.8666 - val_recall: 0.9382 - val_precision: 0.9318\n",
            "Epoch 69/1000000\n",
            "16/16 [==============================] - 6s 380ms/step - loss: 0.0885 - dice_coef: 0.9115 - recall: 0.9467 - precision: 0.9962 - val_loss: 0.1335 - val_dice_coef: 0.8665 - val_recall: 0.9361 - val_precision: 0.9342\n",
            "Epoch 70/1000000\n",
            "16/16 [==============================] - 6s 391ms/step - loss: 0.0876 - dice_coef: 0.9124 - recall: 0.9466 - precision: 0.9960 - val_loss: 0.1323 - val_dice_coef: 0.8677 - val_recall: 0.9266 - val_precision: 0.9404\n",
            "Epoch 71/1000000\n",
            "16/16 [==============================] - 6s 385ms/step - loss: 0.0865 - dice_coef: 0.9135 - recall: 0.9463 - precision: 0.9960 - val_loss: 0.1272 - val_dice_coef: 0.8728 - val_recall: 0.9359 - val_precision: 0.9393\n",
            "Epoch 72/1000000\n",
            "16/16 [==============================] - 6s 388ms/step - loss: 0.0851 - dice_coef: 0.9149 - recall: 0.9466 - precision: 0.9962 - val_loss: 0.1271 - val_dice_coef: 0.8729 - val_recall: 0.9293 - val_precision: 0.9458\n",
            "Epoch 73/1000000\n",
            "16/16 [==============================] - 6s 389ms/step - loss: 0.0838 - dice_coef: 0.9162 - recall: 0.9465 - precision: 0.9965 - val_loss: 0.1233 - val_dice_coef: 0.8767 - val_recall: 0.9245 - val_precision: 0.9529\n",
            "Epoch 74/1000000\n",
            "16/16 [==============================] - 7s 394ms/step - loss: 0.0826 - dice_coef: 0.9174 - recall: 0.9463 - precision: 0.9966 - val_loss: 0.1221 - val_dice_coef: 0.8779 - val_recall: 0.9413 - val_precision: 0.9402\n",
            "Epoch 75/1000000\n",
            "16/16 [==============================] - 6s 386ms/step - loss: 0.0818 - dice_coef: 0.9182 - recall: 0.9466 - precision: 0.9963 - val_loss: 0.1216 - val_dice_coef: 0.8784 - val_recall: 0.9245 - val_precision: 0.9539\n",
            "Epoch 76/1000000\n",
            "16/16 [==============================] - 6s 385ms/step - loss: 0.0805 - dice_coef: 0.9195 - recall: 0.9462 - precision: 0.9965 - val_loss: 0.1162 - val_dice_coef: 0.8838 - val_recall: 0.9275 - val_precision: 0.9573\n",
            "Epoch 77/1000000\n",
            "16/16 [==============================] - 6s 386ms/step - loss: 0.0793 - dice_coef: 0.9207 - recall: 0.9464 - precision: 0.9967 - val_loss: 0.1175 - val_dice_coef: 0.8825 - val_recall: 0.9290 - val_precision: 0.9539\n",
            "Epoch 78/1000000\n",
            "16/16 [==============================] - 6s 387ms/step - loss: 0.0784 - dice_coef: 0.9216 - recall: 0.9464 - precision: 0.9966 - val_loss: 0.1161 - val_dice_coef: 0.8839 - val_recall: 0.9215 - val_precision: 0.9599\n",
            "Epoch 79/1000000\n",
            "16/16 [==============================] - 6s 387ms/step - loss: 0.0774 - dice_coef: 0.9226 - recall: 0.9460 - precision: 0.9966 - val_loss: 0.1094 - val_dice_coef: 0.8906 - val_recall: 0.9291 - val_precision: 0.9629\n",
            "Epoch 80/1000000\n",
            "16/16 [==============================] - 6s 383ms/step - loss: 0.0762 - dice_coef: 0.9238 - recall: 0.9463 - precision: 0.9968 - val_loss: 0.1121 - val_dice_coef: 0.8879 - val_recall: 0.9247 - val_precision: 0.9626\n",
            "Epoch 81/1000000\n",
            "16/16 [==============================] - 6s 377ms/step - loss: 0.0752 - dice_coef: 0.9248 - recall: 0.9462 - precision: 0.9969 - val_loss: 0.1090 - val_dice_coef: 0.8910 - val_recall: 0.9188 - val_precision: 0.9693\n",
            "Epoch 82/1000000\n",
            "16/16 [==============================] - 6s 384ms/step - loss: 0.0743 - dice_coef: 0.9257 - recall: 0.9460 - precision: 0.9969 - val_loss: 0.1054 - val_dice_coef: 0.8946 - val_recall: 0.9369 - val_precision: 0.9604\n",
            "Epoch 83/1000000\n",
            "16/16 [==============================] - 7s 397ms/step - loss: 0.0734 - dice_coef: 0.9266 - recall: 0.9464 - precision: 0.9968 - val_loss: 0.1067 - val_dice_coef: 0.8933 - val_recall: 0.9182 - val_precision: 0.9716\n",
            "Epoch 84/1000000\n",
            "16/16 [==============================] - 6s 391ms/step - loss: 0.0723 - dice_coef: 0.9277 - recall: 0.9460 - precision: 0.9970 - val_loss: 0.1020 - val_dice_coef: 0.8980 - val_recall: 0.9222 - val_precision: 0.9733\n",
            "Epoch 85/1000000\n",
            "16/16 [==============================] - 6s 387ms/step - loss: 0.0713 - dice_coef: 0.9287 - recall: 0.9461 - precision: 0.9970 - val_loss: 0.1014 - val_dice_coef: 0.8986 - val_recall: 0.9273 - val_precision: 0.9712\n",
            "Epoch 86/1000000\n",
            "16/16 [==============================] - 6s 381ms/step - loss: 0.0707 - dice_coef: 0.9293 - recall: 0.9461 - precision: 0.9968 - val_loss: 0.1031 - val_dice_coef: 0.8969 - val_recall: 0.9138 - val_precision: 0.9762\n",
            "Epoch 87/1000000\n",
            "16/16 [==============================] - 6s 381ms/step - loss: 0.0697 - dice_coef: 0.9303 - recall: 0.9458 - precision: 0.9970 - val_loss: 0.0951 - val_dice_coef: 0.9049 - val_recall: 0.9304 - val_precision: 0.9757\n",
            "Epoch 88/1000000\n",
            "16/16 [==============================] - 6s 385ms/step - loss: 0.0686 - dice_coef: 0.9314 - recall: 0.9462 - precision: 0.9972 - val_loss: 0.0980 - val_dice_coef: 0.9020 - val_recall: 0.9219 - val_precision: 0.9762\n",
            "Epoch 89/1000000\n",
            "16/16 [==============================] - 6s 390ms/step - loss: 0.0676 - dice_coef: 0.9324 - recall: 0.9461 - precision: 0.9973 - val_loss: 0.0948 - val_dice_coef: 0.9052 - val_recall: 0.9190 - val_precision: 0.9814\n",
            "Epoch 90/1000000\n",
            "16/16 [==============================] - 6s 377ms/step - loss: 0.0668 - dice_coef: 0.9332 - recall: 0.9459 - precision: 0.9973 - val_loss: 0.0931 - val_dice_coef: 0.9069 - val_recall: 0.9348 - val_precision: 0.9719\n",
            "Epoch 91/1000000\n",
            "16/16 [==============================] - 6s 385ms/step - loss: 0.0662 - dice_coef: 0.9338 - recall: 0.9461 - precision: 0.9971 - val_loss: 0.0958 - val_dice_coef: 0.9042 - val_recall: 0.9166 - val_precision: 0.9791\n",
            "Epoch 92/1000000\n",
            "16/16 [==============================] - 6s 378ms/step - loss: 0.0653 - dice_coef: 0.9347 - recall: 0.9458 - precision: 0.9972 - val_loss: 0.0885 - val_dice_coef: 0.9115 - val_recall: 0.9242 - val_precision: 0.9831\n",
            "Epoch 93/1000000\n",
            "16/16 [==============================] - 6s 386ms/step - loss: 0.0643 - dice_coef: 0.9357 - recall: 0.9461 - precision: 0.9974 - val_loss: 0.0911 - val_dice_coef: 0.9089 - val_recall: 0.9242 - val_precision: 0.9793\n",
            "Epoch 94/1000000\n",
            "16/16 [==============================] - 6s 380ms/step - loss: 0.0636 - dice_coef: 0.9364 - recall: 0.9460 - precision: 0.9973 - val_loss: 0.0937 - val_dice_coef: 0.9063 - val_recall: 0.9127 - val_precision: 0.9788\n",
            "Epoch 95/1000000\n",
            "16/16 [==============================] - 7s 397ms/step - loss: 0.0629 - dice_coef: 0.9371 - recall: 0.9456 - precision: 0.9973 - val_loss: 0.0842 - val_dice_coef: 0.9158 - val_recall: 0.9280 - val_precision: 0.9842\n",
            "Epoch 96/1000000\n",
            "16/16 [==============================] - 6s 387ms/step - loss: 0.0621 - dice_coef: 0.9379 - recall: 0.9460 - precision: 0.9974 - val_loss: 0.0885 - val_dice_coef: 0.9115 - val_recall: 0.9172 - val_precision: 0.9841\n",
            "Epoch 97/1000000\n",
            "16/16 [==============================] - 6s 386ms/step - loss: 0.0613 - dice_coef: 0.9387 - recall: 0.9458 - precision: 0.9975 - val_loss: 0.0837 - val_dice_coef: 0.9163 - val_recall: 0.9212 - val_precision: 0.9878\n",
            "Epoch 98/1000000\n",
            "16/16 [==============================] - 6s 386ms/step - loss: 0.0604 - dice_coef: 0.9396 - recall: 0.9458 - precision: 0.9976 - val_loss: 0.0828 - val_dice_coef: 0.9172 - val_recall: 0.9320 - val_precision: 0.9812\n",
            "Epoch 99/1000000\n",
            "16/16 [==============================] - 6s 386ms/step - loss: 0.0597 - dice_coef: 0.9403 - recall: 0.9461 - precision: 0.9976 - val_loss: 0.0909 - val_dice_coef: 0.9091 - val_recall: 0.9091 - val_precision: 0.9797\n",
            "Epoch 100/1000000\n",
            "16/16 [==============================] - 6s 388ms/step - loss: 0.0592 - dice_coef: 0.9408 - recall: 0.9455 - precision: 0.9975 - val_loss: 0.0794 - val_dice_coef: 0.9206 - val_recall: 0.9241 - val_precision: 0.9885\n",
            "Epoch 101/1000000\n",
            "16/16 [==============================] - 6s 387ms/step - loss: 0.0583 - dice_coef: 0.9417 - recall: 0.9459 - precision: 0.9976 - val_loss: 0.0840 - val_dice_coef: 0.9160 - val_recall: 0.9197 - val_precision: 0.9832\n",
            "Epoch 102/1000000\n",
            "16/16 [==============================] - 6s 383ms/step - loss: 0.0576 - dice_coef: 0.9424 - recall: 0.9458 - precision: 0.9976 - val_loss: 0.0883 - val_dice_coef: 0.9117 - val_recall: 0.9124 - val_precision: 0.9754\n",
            "Epoch 103/1000000\n",
            "16/16 [==============================] - 6s 383ms/step - loss: 0.0570 - dice_coef: 0.9430 - recall: 0.9456 - precision: 0.9977 - val_loss: 0.0766 - val_dice_coef: 0.9234 - val_recall: 0.9278 - val_precision: 0.9875\n",
            "Epoch 104/1000000\n",
            "16/16 [==============================] - 6s 385ms/step - loss: 0.0563 - dice_coef: 0.9437 - recall: 0.9459 - precision: 0.9976 - val_loss: 0.0848 - val_dice_coef: 0.9152 - val_recall: 0.9157 - val_precision: 0.9792\n",
            "Epoch 105/1000000\n",
            "16/16 [==============================] - 6s 384ms/step - loss: 0.0555 - dice_coef: 0.9445 - recall: 0.9458 - precision: 0.9978 - val_loss: 0.0788 - val_dice_coef: 0.9212 - val_recall: 0.9150 - val_precision: 0.9875\n",
            "Epoch 106/1000000\n",
            "16/16 [==============================] - 6s 391ms/step - loss: 0.0547 - dice_coef: 0.9453 - recall: 0.9459 - precision: 0.9979 - val_loss: 0.0774 - val_dice_coef: 0.9226 - val_recall: 0.9199 - val_precision: 0.9887\n",
            "Epoch 107/1000000\n",
            "16/16 [==============================] - 6s 392ms/step - loss: 0.0543 - dice_coef: 0.9457 - recall: 0.9458 - precision: 0.9978 - val_loss: 0.0876 - val_dice_coef: 0.9124 - val_recall: 0.9130 - val_precision: 0.9661\n",
            "Epoch 108/1000000\n",
            "16/16 [==============================] - 6s 387ms/step - loss: 0.0536 - dice_coef: 0.9464 - recall: 0.9459 - precision: 0.9980 - val_loss: 0.0798 - val_dice_coef: 0.9202 - val_recall: 0.9185 - val_precision: 0.9806\n",
            "Epoch 109/1000000\n",
            "16/16 [==============================] - 6s 384ms/step - loss: 0.0534 - dice_coef: 0.9466 - recall: 0.9460 - precision: 0.9982 - val_loss: 0.0801 - val_dice_coef: 0.9199 - val_recall: 0.9162 - val_precision: 0.9813\n",
            "Epoch 110/1000000\n",
            "16/16 [==============================] - 6s 382ms/step - loss: 0.0533 - dice_coef: 0.9467 - recall: 0.9460 - precision: 0.9982 - val_loss: 0.0799 - val_dice_coef: 0.9201 - val_recall: 0.9157 - val_precision: 0.9816\n",
            "Epoch 111/1000000\n",
            "16/16 [==============================] - 6s 383ms/step - loss: 0.0533 - dice_coef: 0.9467 - recall: 0.9460 - precision: 0.9982 - val_loss: 0.0799 - val_dice_coef: 0.9201 - val_recall: 0.9158 - val_precision: 0.9815\n",
            "Epoch 112/1000000\n",
            "16/16 [==============================] - 7s 394ms/step - loss: 0.0532 - dice_coef: 0.9468 - recall: 0.9449 - precision: 0.9983 - val_loss: 0.0791 - val_dice_coef: 0.9209 - val_recall: 0.9179 - val_precision: 0.9815\n",
            "Epoch 113/1000000\n",
            "16/16 [==============================] - 6s 386ms/step - loss: 0.0532 - dice_coef: 0.9468 - recall: 0.9455 - precision: 0.9983 - val_loss: 0.0786 - val_dice_coef: 0.9214 - val_recall: 0.9192 - val_precision: 0.9815\n"
          ],
          "name": "stdout"
        },
        {
          "output_type": "execute_result",
          "data": {
            "text/plain": [
              "<tensorflow.python.keras.callbacks.History at 0x7f54c9d10950>"
            ]
          },
          "metadata": {
            "tags": []
          },
          "execution_count": 18
        }
      ]
    },
    {
      "cell_type": "markdown",
      "metadata": {
        "id": "lJQt0IiQYzd7"
      },
      "source": [
        "## Evaluation"
      ]
    },
    {
      "cell_type": "code",
      "metadata": {
        "id": "M7u3hcVNYzd9",
        "colab": {
          "base_uri": "https://localhost:8080/"
        },
        "outputId": "12ca560f-f91a-4b13-a9c5-980256e12f3c"
      },
      "source": [
        "test_dataset = tf_dataset(test_x, test_y, batch=BATCH)\n",
        "\n",
        "test_steps = (len(test_x)//BATCH)\n",
        "if len(test_x) % BATCH != 0:\n",
        "    test_steps += 1\n",
        "\n",
        "model.evaluate(test_dataset, steps=test_steps)"
      ],
      "execution_count": 19,
      "outputs": [
        {
          "output_type": "stream",
          "text": [
            "1/1 [==============================] - 2s 2s/step - loss: 0.0899 - dice_coef: 0.9101 - recall: 0.9004 - precision: 0.9802\n"
          ],
          "name": "stdout"
        },
        {
          "output_type": "execute_result",
          "data": {
            "text/plain": [
              "[0.08993589878082275,\n",
              " 0.9100641012191772,\n",
              " 0.9004079103469849,\n",
              " 0.9801805019378662]"
            ]
          },
          "metadata": {
            "tags": []
          },
          "execution_count": 19
        }
      ]
    },
    {
      "cell_type": "markdown",
      "metadata": {
        "id": "FRvRwGFsYzeB"
      },
      "source": [
        "## Results"
      ]
    },
    {
      "cell_type": "code",
      "metadata": {
        "id": "aiJP-3l5YzeC",
        "colab": {
          "base_uri": "https://localhost:8080/",
          "height": 675
        },
        "outputId": "f8281c40-69ae-4954-de4e-0c08f82bd06b"
      },
      "source": [
        "def read_image(path):\n",
        "    #x = cv2.imread(path, cv2.IMREAD_COLOR)\n",
        "    x = cv2.imread('/content/drive/MyDrive/DJI_01472.jpg', cv2.IMREAD_COLOR)\n",
        "    x = cv2.cvtColor(x, cv2.COLOR_BGR2RGB)\n",
        "    x = cv2.resize(x, (IMAGE_SIZE, IMAGE_SIZE))\n",
        "    x = x/255.0\n",
        "    return x\n",
        "\n",
        "def read_mask(path):\n",
        "    #x = cv2.imread(path, cv2.IMREAD_GRAYSCALE)\n",
        "    x = cv2.imread('/content/drive/MyDrive/Unet/mask/20210222_090811.jpg', cv2.IMREAD_GRAYSCALE)\n",
        "    x = cv2.resize(x, (IMAGE_SIZE, IMAGE_SIZE))\n",
        "    x = np.expand_dims(x, axis=-1)\n",
        "    x = x/255.0\n",
        "    return x\n",
        "#####################\n",
        "def mask_parse(mask):\n",
        "    mask = np.squeeze(mask)\n",
        "    mask = [mask, mask, mask]\n",
        "    mask = np.transpose(mask, (1, 2, 0))\n",
        "    return mask\n",
        "\n",
        "for i, (x, y) in enumerate(zip(test_x[:10], test_y[:10])):\n",
        "    x = read_image(x)\n",
        "    y = read_mask(y)\n",
        "    y_pred = model.predict(np.expand_dims(x, axis=0))[0] > 0.5\n",
        "    h, w, _ = x.shape\n",
        "    white_line = np.ones((h, 10, 3))\n",
        "  \n",
        "    #all_images = [\n",
        "        #x, white_line,\n",
        "        #mask_parse(y), white_line,\n",
        "        #mask_parse(y_pred)\n",
        "    #]\n",
        "    all_images = [white_line, mask_parse(y_pred)]\n",
        "    image = np.concatenate(all_images, axis=1)\n",
        "\n",
        "    fig = plt.figure(figsize=(12, 12))\n",
        "    #a = fig.add_subplot(1, 1, 1)\n",
        "    \n",
        "    #fig = plt.figure(figsize=(12, 12))\n",
        "    #a = fig.add_subplot(1, 1, 1)\n",
        "    \n",
        "    plt.axis('off')\n",
        "    \n",
        "    imgplot = plt.imshow(image)\n",
        "    plt.savefig('/content/drive/MyDrive/DJI_01472_pred.jpg', dpi=1000)\n",
        "    break"
      ],
      "execution_count": 26,
      "outputs": [
        {
          "output_type": "display_data",
          "data": {
            "image/png": "[encoded data removed]",
            "text/plain": [
              "<Figure size 864x864 with 1 Axes>"
            ]
          },
          "metadata": {
            "tags": [],
            "needs_background": "light"
          }
        }
      ]
    },
    {
      "cell_type": "markdown",
      "metadata": {
        "id": "L-6ofpvUYzeE"
      },
      "source": [
        "## How to Improve the Results"
      ]
    },
    {
      "cell_type": "markdown",
      "metadata": {
        "id": "UEBLTQ6fYzeG"
      },
      "source": [
        "<ul>\n",
        "    <li> Use data augmentation </li>\n",
        "    <li> Use other pretrained encoder </li>\n",
        "    <li> Use a different decoder or different blocks in the decoder. </li>   \n",
        " </ul>"
      ]
    },
    {
      "cell_type": "markdown",
      "metadata": {
        "id": "zarfHJPLYzeH"
      },
      "source": [
        "# Thank You\n",
        "\n",
        "FOLLOW US ON:\n",
        "<ul>\n",
        "<li><a href=\"https://www.youtube.com/idiotdeveloper\"> YOUTUBE </a></li>\n",
        "<li><a href=\"https://facebook.com/idiotdeveloper\"> FACEBOOK </a></li>\n",
        "<li><a href=\"https://twitter.com/nikhilroxtomar\"> TWITTER </a></li>\n",
        "<li><a href=\"https://www.instagram.com/nikhilroxtomar\"> INSTAGRAM </a></li>\n",
        "<li><a href=\"https://www.patreon.com/idiotdeveloper\"> PATREON </a></li>\n",
        "</ul>"
      ]
    },
    {
      "cell_type": "code",
      "metadata": {
        "id": "Gy9e0EFtYzeK"
      },
      "source": [
        ""
      ],
      "execution_count": 20,
      "outputs": []
    }
  ]
}